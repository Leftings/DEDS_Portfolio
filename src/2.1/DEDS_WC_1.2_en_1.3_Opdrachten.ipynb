{
 "cells": [
  {
   "cell_type": "markdown",
   "metadata": {},
   "source": [
    "# Werkcollege-opdrachten Week 1.3"
   ]
  },
  {
   "cell_type": "markdown",
   "metadata": {},
   "source": [
    "## Dependencies importeren"
   ]
  },
  {
   "cell_type": "markdown",
   "metadata": {},
   "source": [
    "Kopieer in het codeblok hieronder van het vorige practicum de import-code voor de dependencies die het vaakst worden gebruikt om data in te lezen. Geef er ook de gebruikelijke aliassen aan.<br>\n",
    "Zet eventuele warnings uit."
   ]
  },
  {
   "cell_type": "code",
   "execution_count": 1,
   "metadata": {},
   "outputs": [],
   "source": [
    "import pandas as pd\n",
    "import sqlite3 as sqlite\n",
    "import warnings\n",
    "\n",
    "warnings.simplefilter('ignore')"
   ]
  },
  {
   "cell_type": "markdown",
   "metadata": {},
   "source": [
    "Zet het bestand go_sales_train.sqlite in een makkelijk te vinden map"
   ]
  },
  {
   "cell_type": "markdown",
   "metadata": {},
   "source": [
    "## Databasetabellen inlezen"
   ]
  },
  {
   "cell_type": "markdown",
   "metadata": {},
   "source": [
    "Kopieer in het codeblok hieronder van het vorige practicum de code om een connectie met het bestand go_sales_train.sqlite te maken."
   ]
  },
  {
   "cell_type": "code",
   "execution_count": 2,
   "metadata": {},
   "outputs": [],
   "source": [
    "sqliteConnection = sqlite.connect('.\\\\sqlite\\\\go_sales_train.sqlite')\n",
    "cursor = sqliteConnection.cursor()"
   ]
  },
  {
   "cell_type": "markdown",
   "metadata": {},
   "source": [
    "Lees van de ingelezen go_sales_train-database te volgende tabellen in met behulp van \"SELECT * FROM *tabel*\".\n",
    "- product\n",
    "- product_type\n",
    "- product_line\n",
    "- sales_staff\n",
    "- sales_branch\n",
    "- retailer_site\n",
    "- country\n",
    "- order_header\n",
    "- order_details\n",
    "- returned_item\n",
    "- return_reason"
   ]
  },
  {
   "cell_type": "code",
   "execution_count": 3,
   "metadata": {},
   "outputs": [
    {
     "name": "stdout",
     "output_type": "stream",
     "text": [
      "{'country'}\n",
      "    COUNTRY_CODE         COUNTRY LANGUAGE CURRENCY_NAME\n",
      "0              1          France       EN        francs\n",
      "1              2         Germany       EN         marks\n",
      "2              3   United States       EN       dollars\n",
      "3              4          Canada       EN       dollars\n",
      "4              5         Austria       EN    schillings\n",
      "5              6           Italy       EN          lira\n",
      "6              7     Netherlands       EN      guilders\n",
      "7              8     Switzerland       EN        francs\n",
      "8              9  United Kingdom       EN        pounds\n",
      "9             10          Sweden       EN         krona\n",
      "10            11           Japan       EN           yen\n",
      "11            12          Taiwan       EN    new dollar\n",
      "12            13           Korea       EN           won\n",
      "13            14           China       EN      renminbi\n",
      "14            16       Australia       EN       dollars\n",
      "15            17         Belgium       EN        francs\n",
      "16            18         Denmark       EN        kroner\n",
      "17            19           Spain       EN       pesetas\n",
      "18            20          Mexico       EN         pesos\n",
      "19            21          Brazil       EN         reals\n",
      "20            22         Finland       EN        markka\n",
      "{'order_details'}\n",
      "       ORDER_DETAIL_CODE  ORDER_NUMBER  PRODUCT_NUMBER  QUANTITY  UNIT_COST  \\\n",
      "0                  47737          1638               1        84       4.38   \n",
      "1                  47738          1159               1       126       4.38   \n",
      "2                  47739          1171               1       122       4.38   \n",
      "3                  47740          1154               1       122       4.38   \n",
      "4                  47741          1205               1       272       4.38   \n",
      "...                  ...           ...             ...       ...        ...   \n",
      "37752             115289          7631             112        70       6.00   \n",
      "37753             115290          7627             113        44       6.00   \n",
      "37754             115291          7630             114         8      80.00   \n",
      "37755             115292          7631             115        24       5.00   \n",
      "37756             115293          7627             115        56       5.00   \n",
      "\n",
      "       UNIT_PRICE  UNIT_SALE_PRICE  \n",
      "0            6.59             6.59  \n",
      "1            6.59             6.59  \n",
      "2            6.59             6.03  \n",
      "3            6.59             6.59  \n",
      "4            6.59             5.26  \n",
      "...           ...              ...  \n",
      "37752        9.00             9.00  \n",
      "37753       12.00             9.00  \n",
      "37754      200.00           140.00  \n",
      "37755       10.00            10.00  \n",
      "37756       10.00             7.50  \n",
      "\n",
      "[37757 rows x 7 columns]\n",
      "{'order_header'}\n",
      "      ORDER_NUMBER RETAILER_NAME  RETAILER_SITE_CODE  RETAILER_CONTACT_CODE  \\\n",
      "0             1153  Ultra Sports                   4                      6   \n",
      "1             1154  Ultra Sports                   4                      6   \n",
      "2             1155  Ultra Sports                   5                     65   \n",
      "3             1156  Ultra Sports                   5                     65   \n",
      "4             1157  Ultra Sports                   6                     66   \n",
      "...            ...           ...                 ...                    ...   \n",
      "4779          9475  Preben's T°y                 338                    329   \n",
      "4780          9476  Preben's T°y                 336                    327   \n",
      "4781          9477  Preben's T°y                 338                    329   \n",
      "4782          9478  Preben's T°y                 336                    327   \n",
      "4783          9479  Preben's T°y                 338                    329   \n",
      "\n",
      "      SALES_STAFF_CODE  SALES_BRANCH_CODE  ORDER_DATE  ORDER_METHOD_CODE  \n",
      "0                   50                 18  2022-04-14                  7  \n",
      "1                   50                 18  2022-10-01                  4  \n",
      "2                   49                 18  2022-04-21                  7  \n",
      "3                   49                 18  2022-09-09                  5  \n",
      "4                   50                 18  2022-04-10                  2  \n",
      "...                ...                ...         ...                ...  \n",
      "4779                29                 15  2022-01-13                  4  \n",
      "4780                29                 15  2023-01-02                  5  \n",
      "4781                29                 15  2023-01-18                  2  \n",
      "4782                27                 15  2024-01-15                  7  \n",
      "4783                27                 15  2024-02-02                  5  \n",
      "\n",
      "[4784 rows x 8 columns]\n",
      "{'order_method'}\n",
      "   ORDER_METHOD_CODE ORDER_METHOD_EN\n",
      "0                  1             Fax\n",
      "1                  2       Telephone\n",
      "2                  3            Mail\n",
      "3                  4          E-mail\n",
      "4                  5             Web\n",
      "5                  7     Sales visit\n",
      "6                  8         Special\n",
      "{'product'}\n",
      "     PRODUCT_NUMBER INTRODUCTION_DATE  PRODUCT_TYPE_CODE  PRODUCTION_COST  \\\n",
      "0                 1        1995-02-15                  1             4.00   \n",
      "1                 2        1995-02-15                  1             9.22   \n",
      "2                 3        1995-02-15                  1            15.93   \n",
      "3                 4        1995-02-15                  1             5.00   \n",
      "4                 5        1995-02-15                  1            34.97   \n",
      "..              ...               ...                ...              ...   \n",
      "110             111        2003-12-15                 20            81.80   \n",
      "111             112        2004-01-10                 21             6.00   \n",
      "112             113        2004-01-15                 21             6.00   \n",
      "113             114        2003-12-15                 21            80.00   \n",
      "114             115        2003-12-27                 21             5.00   \n",
      "\n",
      "     MARGIN    PRODUCT_IMAGE LANGUAGE                 PRODUCT_NAME  \\\n",
      "0      0.33    P01CE1CG1.jpg       EN          TrailChef Water Bag   \n",
      "1      0.23    P02CE1CG1.jpg       EN            TrailChef Canteen   \n",
      "2      0.28    P03CE1CG1.jpg       EN        TrailChef Kitchen Kit   \n",
      "3      0.28    P04CE1CG1.jpg       EN                TrailChef Cup   \n",
      "4      0.30    P05CE1CG1.jpg       EN           TrailChef Cook Set   \n",
      "..      ...              ...      ...                          ...   \n",
      "110    0.55  P111GE5PT20.jpg       EN        Blue Steel Max Putter   \n",
      "111    0.33  P112GE5GA21.jpg       EN  Course Pro Golf and Tee Set   \n",
      "112    0.50  P113GE5GA21.jpg       EN          Course Pro Umbrella   \n",
      "113    0.60  P114GE5GA21.jpg       EN          Course Pro Golf Bag   \n",
      "114    0.50  P115GE5GA21.jpg       EN            Course Pro Gloves   \n",
      "\n",
      "                                           DESCRIPTION  \n",
      "0    Lightweight, collapsible bag to carry liquids ...  \n",
      "1    Aluminum canteen. Rugged fleece-lined cover wi...  \n",
      "2    Zippered nylon pouch contains cutlery for two,...  \n",
      "3              Tin cup. Holds 0.4 liters. Weight: 60 g  \n",
      "4    All you will ever need on the trail.  Pot grip...  \n",
      "..                                                 ...  \n",
      "110  Putter head is composed from a single piece of...  \n",
      "111  Set includes two premium golf ball and an asso...  \n",
      "112       Large red and white patterned golf umbrella.  \n",
      "113  High quality golf bag that includes carrying s...  \n",
      "114  Durable nylon constructed gloves with stitched...  \n",
      "\n",
      "[115 rows x 9 columns]\n",
      "{'product_line'}\n",
      "   PRODUCT_LINE_CODE           PRODUCT_LINE_EN\n",
      "0                  1         Camping Equipment\n",
      "1                  2  Mountaineering Equipment\n",
      "2                  3      Personal Accessories\n",
      "3                  4        Outdoor Protection\n",
      "4                  5            Golf Equipment\n",
      "{'product_type'}\n",
      "    PRODUCT_TYPE_CODE  PRODUCT_LINE_CODE       PRODUCT_TYPE_EN\n",
      "0                   1                  1          Cooking Gear\n",
      "1                   2                  1                 Tents\n",
      "2                   3                  1         Sleeping Bags\n",
      "3                   4                  1                 Packs\n",
      "4                   5                  1              Lanterns\n",
      "5                   6                  2                  Rope\n",
      "6                   7                  2                Safety\n",
      "7                   8                  2  Climbing Accessories\n",
      "8                   9                  2                 Tools\n",
      "9                  10                  3               Watches\n",
      "10                 11                  3               Eyewear\n",
      "11                 12                  3                Knives\n",
      "12                 13                  3            Binoculars\n",
      "13                 14                  3            Navigation\n",
      "14                 15                  4     Insect Repellents\n",
      "15                 16                  4             Sunscreen\n",
      "16                 17                  4             First Aid\n",
      "17                 18                  5                 Irons\n",
      "18                 19                  5                 Woods\n",
      "19                 20                  5               Putters\n",
      "20                 21                  5      Golf Accessories\n",
      "{'retailer_site'}\n",
      "     RETAILER_SITE_CODE  RETAILER_CODE            ADDRESS1 ADDRESS2  \\\n",
      "0                     1             89  1117 Franklin Blvd     None   \n",
      "1                     2             89     45, rue Atwater     None   \n",
      "2                     3             89    328 Hodgson Road     None   \n",
      "3                     4             90      2425, rue Peel     None   \n",
      "4                     5             90       34 8th Avenue     None   \n",
      "..                  ...            ...                 ...      ...   \n",
      "386                 439            209     Hüttenstraße 87     None   \n",
      "387                 440            209      Hauptstraße 85     None   \n",
      "388                 441            209          Amselweg 8     None   \n",
      "389                 442            209       Hasengasse 38     None   \n",
      "390                 443            210     Hammerstraße 26     None   \n",
      "\n",
      "               CITY         REGION POSTAL_ZONE  COUNTRY_CODE  ACTIVE_INDICATOR  \n",
      "0          Winnipeg       Manitoba     R2C 0M5             4                 1  \n",
      "1          Montréal         Québec     H2T 9K8             4                 1  \n",
      "2       Fredericton  New Brunswick     E3B 2H2             4                 1  \n",
      "3          Montréal         Québec     H4G 3T4             4                 1  \n",
      "4           Sudbury        Ontario     M5V 1G5             4                 1  \n",
      "..              ...            ...         ...           ...               ...  \n",
      "386  Klosterneuburg           None      A-3400             5                 1  \n",
      "387            Linz           None      A-4015             5                 1  \n",
      "388       Innsbruck           None      A-6020             5                 1  \n",
      "389          Ischgl           None      A-6561             5                 1  \n",
      "390       Innsbruck           None      A-6020             5                 1  \n",
      "\n",
      "[391 rows x 9 columns]\n",
      "{'return_reason'}\n",
      "   RETURN_REASON_CODE   RETURN_DESCRIPTION_EN\n",
      "0                   1       Defective product\n",
      "1                   2      Incomplete product\n",
      "2                   3   Wrong product ordered\n",
      "3                   4   Wrong product shipped\n",
      "4                   5  Unsatisfactory product\n",
      "{'returned_item'}\n",
      "     RETURN_CODE          RETURN_DATE  ORDER_DETAIL_CODE  RETURN_REASON_CODE  \\\n",
      "0           1491  Aug  1 2023  4:10AM              84858                   5   \n",
      "1           1492  Dec  6 2022  6:46PM              84440                   2   \n",
      "2           1493  Jun 24 2023  9:23AM              84867                   4   \n",
      "3           1494  Jul 21 2023 12:00AM              84873                   3   \n",
      "4           1496  Oct  7 2022  5:13AM              84488                   1   \n",
      "..           ...                  ...                ...                 ...   \n",
      "614         2464  Dec  7 2023  5:14AM             114967                   1   \n",
      "615         2465  Jun  6 2023  9:22AM             114972                   3   \n",
      "616         2466  Oct  6 2023 12:31PM             114983                   5   \n",
      "617         2467  Mar 31 2024  3:39PM             115215                   4   \n",
      "618         2469  Sep 25 2022 10:56PM             114848                   3   \n",
      "\n",
      "     RETURN_QUANTITY  \n",
      "0                  8  \n",
      "1                  2  \n",
      "2                 22  \n",
      "3                 20  \n",
      "4                  2  \n",
      "..               ...  \n",
      "614               12  \n",
      "615               24  \n",
      "616               66  \n",
      "617               64  \n",
      "618               82  \n",
      "\n",
      "[619 rows x 5 columns]\n",
      "{'sales_branch'}\n",
      "    SALES_BRANCH_CODE                          ADDRESS1           ADDRESS2  \\\n",
      "0                   6     75, rue du Faubourg St-Honoré               None   \n",
      "1                   7                   Piazza Duomo, 1               None   \n",
      "2                   9               Singelgravenplein 4      4e verdieping   \n",
      "3                  13                    Schwabentor 35               None   \n",
      "4                  14                  Leopoldstraße 36               None   \n",
      "5                  15               Isafjordsgatan 30 C               None   \n",
      "6                  17      7800, 756 - 6th Avenue. S.W.               None   \n",
      "7                  18                  789 Yonge Street               None   \n",
      "8                  19            1288 Dorchester Avenue               None   \n",
      "9                  20                   299 Yale Avenue               None   \n",
      "10                 21        1288 South Barrington Ave.               None   \n",
      "11                 22                    10032 NW 186th               None   \n",
      "12                 23               6c, rue de l'Église               None   \n",
      "13                 24  Prol. Paseo de la Reforma No. 51  Lomas de Santa Fe   \n",
      "14                 25               202-2-3 Hyakunincho        Shinjuku-ku   \n",
      "15                 26                     543-225 Asahi           Asahi-ku   \n",
      "16                 28                  2315 Queen's Ave            Level 2   \n",
      "17                 29     Plaza de la Constitución, s/n               None   \n",
      "18                 30             Avenida Paulista, 333   CJ 231 2o. Andar   \n",
      "19                 31                     Kauppakatu 33               None   \n",
      "20                 32             234-12, Kongdeok-Dong            Mapo-Ku   \n",
      "21                 33      154, Choung-Cheng South Road               None   \n",
      "22                 34          No. 1277 Beijing Xi Road               None   \n",
      "23                 35                    Victoria House    25 Ebury Street   \n",
      "24                 36                    3 Albany Court      Market Street   \n",
      "25                 37                    Birchstraße 13               None   \n",
      "26                 38                 Interleuvenlaan 2               None   \n",
      "27                 39                 Jedleser Straße 7               None   \n",
      "\n",
      "                CITY         REGION POSTAL_ZONE  COUNTRY_CODE  \n",
      "0              Paris           None     F-75008             1  \n",
      "1             Milano           None     I-20121             6  \n",
      "2          Amsterdam  Noord-Holland     1233 BW             7  \n",
      "3            Hamburg           None     D-22529             2  \n",
      "4            München           None     D-81241             2  \n",
      "5              Kista           None    S-164 40            10  \n",
      "6            Calgary        Alberta     T2P 3Z0             4  \n",
      "7            Toronto        Ontario     M2M 4K8             4  \n",
      "8             Boston  Massachusetts       02133             3  \n",
      "9            Seattle     Washington       98139             3  \n",
      "10       Los Angeles     California       90072             3  \n",
      "11             Miami        Florida       33024             3  \n",
      "12              Lyon           None     F-69002             1  \n",
      "13  Distrito Federal         México       01219            20  \n",
      "14             Tokyo          Tokyo    681-3187            11  \n",
      "15        Osaka City          Osaka    616-5698            11  \n",
      "16         Melbourne            VIC        2088            16  \n",
      "17            Bilbao        Vizcaya       48223            19  \n",
      "18         São Paulo             SP   01403-090            21  \n",
      "19            Kuopio           None   FIN-73100            22  \n",
      "20             Seoul           None     121-020            13  \n",
      "21         San Chung         Taipei         241            12  \n",
      "22          Shanghai           None      200040            14  \n",
      "23            London           None     N17 7LX             9  \n",
      "24        Birmingham  West Midlands     B43 7NP             9  \n",
      "25            Zürich           None     CH-8057             8  \n",
      "26          Heverlee           None      B-3001            17  \n",
      "27              Wien           None      A-1210             5  \n",
      "{'sales_staff'}\n",
      "     SALES_STAFF_CODE FIRST_NAME  LAST_NAME                   POSITION_EN  \\\n",
      "0                   4      Denis       Pagé                Branch Manager   \n",
      "1                   5  Élizabeth     Michel  Level 3 Sales Representative   \n",
      "2                   6      Émile   Clermont  Level 1 Sales Representative   \n",
      "3                   7    Étienne     Jauvin  Level 2 Sales Representative   \n",
      "4                  12    Elsbeth  Wiesinger  Level 2 Sales Representative   \n",
      "..                ...        ...        ...                           ...   \n",
      "97                120      Giele   Laermans  Level 1 Sales Representative   \n",
      "98                121   François    De Crée  Level 1 Sales Representative   \n",
      "99                122     Yvette    Lattrez  Level 3 Sales Representative   \n",
      "100               123      Willi  Seefelder  Level 2 Sales Representative   \n",
      "101               124     Sabine     Grüner  Level 3 Sales Representative   \n",
      "\n",
      "            WORK_PHONE  EXTENSION                FAX                   EMAIL  \\\n",
      "0    +33 1 68 94 52 20      325.0  +33 1 68 94 56 60       DPage@grtd123.com   \n",
      "1    +33 1 68 94 52 20      336.0  +33 1 68 94 56 60     EMichel@grtd123.com   \n",
      "2    +33 1 68 94 52 20      378.0  +33 1 68 94 56 60   EClermont@grtd123.com   \n",
      "3    +33 1 68 94 52 20      398.0  +33 1 68 94 56 60     EJauvin@grtd123.com   \n",
      "4    +(49) 40 663 1990     1818.0  +(49) 40 663 4571  EWiesinger@grtd123.com   \n",
      "..                 ...        ...                ...                     ...   \n",
      "97     +32 16 20.73.21     1340.0    +32 16 20.73.32   GLaermans@grtd123.com   \n",
      "98     +32 16 20.73.21     1642.0    +32 16 20.73.32     FDecree@grtd123.com   \n",
      "99     +32 16 20.73.21     1633.0    +32 16 20.73.32    YLattrez@grtd123.com   \n",
      "100  +(43) 13 79 56 32      325.0  +(43) 13 79 56 33  WSeefelder@grtd123.com   \n",
      "101  +(43) 13 79 56 32      348.0  +(43) 13 79 56 33     SGruner@grtd123.com   \n",
      "\n",
      "     DATE_HIRED  SALES_BRANCH_CODE  \n",
      "0    1996-11-03                  6  \n",
      "1    1995-06-08                  6  \n",
      "2    1998-04-07                  6  \n",
      "3    1997-08-16                  6  \n",
      "4    1997-02-27                 13  \n",
      "..          ...                ...  \n",
      "97   1999-11-15                 38  \n",
      "98   1999-12-01                 38  \n",
      "99   1999-12-09                 38  \n",
      "100  1998-10-28                 39  \n",
      "101  1998-02-18                 39  \n",
      "\n",
      "[102 rows x 10 columns]\n"
     ]
    }
   ],
   "source": [
    "sql_query = \"SELECT name FROM sqlite_master WHERE type='table';\"\n",
    "cursor.execute(sql_query)\n",
    "tables = cursor.fetchall()\n",
    "for table in tables:\n",
    "    table_name = table[0]\n",
    "    df = pd.read_sql(f\"SELECT * FROM {table_name}\", sqliteConnection)\n",
    "    print({table_name})\n",
    "    print(df)"
   ]
  },
  {
   "cell_type": "markdown",
   "metadata": {},
   "source": [
    "Krijg je een \"no such table\" error? Dan heb je misschien met .connect() per ongeluk een leeg  databasebestand (.sqlite) aangemaakt. <u>Let op:</u> lees eventueel de informatie uit het Notebook van werkcollege 1.1b nog eens goed door."
   ]
  },
  {
   "cell_type": "markdown",
   "metadata": {},
   "source": [
    "Als je tijdens onderstaande opdrachten uit het oog verliest welke tabellen er allemaal zijn, kan je deze Pythoncode uitvoeren:"
   ]
  },
  {
   "cell_type": "code",
   "execution_count": 4,
   "metadata": {},
   "outputs": [
    {
     "data": {
      "text/html": [
       "<div>\n",
       "<style scoped>\n",
       "    .dataframe tbody tr th:only-of-type {\n",
       "        vertical-align: middle;\n",
       "    }\n",
       "\n",
       "    .dataframe tbody tr th {\n",
       "        vertical-align: top;\n",
       "    }\n",
       "\n",
       "    .dataframe thead th {\n",
       "        text-align: right;\n",
       "    }\n",
       "</style>\n",
       "<table border=\"1\" class=\"dataframe\">\n",
       "  <thead>\n",
       "    <tr style=\"text-align: right;\">\n",
       "      <th></th>\n",
       "      <th>name</th>\n",
       "    </tr>\n",
       "  </thead>\n",
       "  <tbody>\n",
       "    <tr>\n",
       "      <th>0</th>\n",
       "      <td>country</td>\n",
       "    </tr>\n",
       "    <tr>\n",
       "      <th>1</th>\n",
       "      <td>order_details</td>\n",
       "    </tr>\n",
       "    <tr>\n",
       "      <th>2</th>\n",
       "      <td>order_header</td>\n",
       "    </tr>\n",
       "    <tr>\n",
       "      <th>3</th>\n",
       "      <td>order_method</td>\n",
       "    </tr>\n",
       "    <tr>\n",
       "      <th>4</th>\n",
       "      <td>product</td>\n",
       "    </tr>\n",
       "    <tr>\n",
       "      <th>5</th>\n",
       "      <td>product_line</td>\n",
       "    </tr>\n",
       "    <tr>\n",
       "      <th>6</th>\n",
       "      <td>product_type</td>\n",
       "    </tr>\n",
       "    <tr>\n",
       "      <th>7</th>\n",
       "      <td>retailer_site</td>\n",
       "    </tr>\n",
       "    <tr>\n",
       "      <th>8</th>\n",
       "      <td>return_reason</td>\n",
       "    </tr>\n",
       "    <tr>\n",
       "      <th>9</th>\n",
       "      <td>returned_item</td>\n",
       "    </tr>\n",
       "    <tr>\n",
       "      <th>10</th>\n",
       "      <td>sales_branch</td>\n",
       "    </tr>\n",
       "    <tr>\n",
       "      <th>11</th>\n",
       "      <td>sales_staff</td>\n",
       "    </tr>\n",
       "  </tbody>\n",
       "</table>\n",
       "</div>"
      ],
      "text/plain": [
       "             name\n",
       "0         country\n",
       "1   order_details\n",
       "2    order_header\n",
       "3    order_method\n",
       "4         product\n",
       "5    product_line\n",
       "6    product_type\n",
       "7   retailer_site\n",
       "8   return_reason\n",
       "9   returned_item\n",
       "10   sales_branch\n",
       "11    sales_staff"
      ]
     },
     "execution_count": 4,
     "metadata": {},
     "output_type": "execute_result"
    }
   ],
   "source": [
    "sql_query = \"SELECT name FROM sqlite_master WHERE type='table';\"\n",
    "#Vul dit codeblok verder in\n",
    "pd.read_sql(sql_query, sqliteConnection)\n",
    "#Op de puntjes hoort de connectie naar go_sales_train óf go_staff_train óf go_crm_train te staan."
   ]
  },
  {
   "cell_type": "markdown",
   "metadata": {},
   "source": [
    "erachter "
   ]
  },
  {
   "cell_type": "markdown",
   "metadata": {},
   "source": [
    "Let op! Voor alle onderstaande opdrachten mag je <u>alleen Python</u> gebruiken, <u>geen SQL!</u>"
   ]
  },
  {
   "cell_type": "markdown",
   "metadata": {},
   "source": [
    "## Selecties op één tabel zonder functies"
   ]
  },
  {
   "cell_type": "markdown",
   "metadata": {},
   "source": [
    "Geef een overzicht met daarin de producten en hun productiekosten waarvan de productiekosten lager dan 100 dollar en hoger dan 50 dollar ligt. (2 kolommen, 23 rijen)"
   ]
  },
  {
   "cell_type": "code",
   "execution_count": 5,
   "metadata": {},
   "outputs": [
    {
     "name": "stdout",
     "output_type": "stream",
     "text": [
      "                        PRODUCT_NAME  PRODUCTION_COST\n",
      "5          TrailChef Deluxe Cook Set            85.11\n",
      "7             TrailChef Double Flame            75.00\n",
      "16                   Hibernator Lite            60.00\n",
      "17                        Hibernator            86.00\n",
      "19   Hibernator Self - Inflating Mat            78.55\n",
      "22               Hibernator Camp Cot            65.33\n",
      "23      Canyon Mule Climber Backpack            62.50\n",
      "45           Granite Climbing Helmet            52.86\n",
      "47             Husky Harness Extreme            55.00\n",
      "57                    Granite Hammer            57.13\n",
      "68                         Polar Ice            73.33\n",
      "69                      Polar Sports            80.00\n",
      "70                        Polar Wave            60.00\n",
      "71                     Polar Extreme            72.50\n",
      "74                      Edge Extreme            80.00\n",
      "77                         Seeker 35            79.19\n",
      "78                         Seeker 50            92.58\n",
      "79                    Seeker Extreme            94.12\n",
      "82                    Glacier Deluxe            56.25\n",
      "83                       Glacier GPS            78.55\n",
      "109                Blue Steel Putter            60.00\n",
      "110            Blue Steel Max Putter            81.80\n",
      "113              Course Pro Golf Bag            80.00\n"
     ]
    }
   ],
   "source": [
    "df = pd.read_sql(\"SELECT * FROM product\", sqliteConnection)\n",
    "df_res = df.loc[(df['PRODUCTION_COST'] > 50) & (df['PRODUCTION_COST'] < 100), ['PRODUCT_NAME', 'PRODUCTION_COST']]\n",
    "print(df_res)"
   ]
  },
  {
   "cell_type": "markdown",
   "metadata": {},
   "source": [
    "Geef een overzicht met daarin de producten en hun marge waarvan de marge lager dan 20 % of hoger dan 60 % ligt. (2 kolommen, 7 rijen) "
   ]
  },
  {
   "cell_type": "code",
   "execution_count": 6,
   "metadata": {},
   "outputs": [
    {
     "name": "stdout",
     "output_type": "stream",
     "text": [
      "                    PRODUCT_NAME  MARGIN\n",
      "20                Hibernator Pad    0.17\n",
      "23  Canyon Mule Climber Backpack    0.17\n",
      "85             BugShield Natural    0.67\n",
      "86               BugShield Spray    0.67\n",
      "87         BugShield Lotion Lite    0.70\n",
      "88              BugShield Lotion    0.63\n",
      "89             BugShield Extreme    0.63\n"
     ]
    }
   ],
   "source": [
    "df = pd.read_sql(\"SELECT * FROM product\", sqliteConnection)\n",
    "df_res = df.loc[(df['MARGIN'] < 0.20) | (df['MARGIN'] > 0.60), ['PRODUCT_NAME', 'MARGIN']]\n",
    "print(df_res)"
   ]
  },
  {
   "cell_type": "markdown",
   "metadata": {},
   "source": [
    "Geef een overzicht met daarin de landen waar met francs wordt betaald. Sorteer de uitkomst op land.  (1 kolom, 3 rijen)"
   ]
  },
  {
   "cell_type": "code",
   "execution_count": 7,
   "metadata": {},
   "outputs": [
    {
     "name": "stdout",
     "output_type": "stream",
     "text": [
      "        COUNTRY\n",
      "0        France\n",
      "7   Switzerland\n",
      "15      Belgium\n"
     ]
    }
   ],
   "source": [
    "df = pd.read_sql(\"SELECT * FROM country\", sqliteConnection)\n",
    "df_res = df.loc[(df['CURRENCY_NAME'] == 'francs'), ['COUNTRY']]\n",
    "print(df_res)"
   ]
  },
  {
   "cell_type": "markdown",
   "metadata": {},
   "source": [
    "Geef een overzicht met daarin de verschillende introductiedatums waarop producten met meer dan 50% marge worden geïntroduceerd (1 kolom, 7 rijen) "
   ]
  },
  {
   "cell_type": "code",
   "execution_count": 8,
   "metadata": {},
   "outputs": [
    {
     "name": "stdout",
     "output_type": "stream",
     "text": [
      "66     2000-10-26\n",
      "85     1995-02-15\n",
      "101    2003-12-10\n",
      "103    2003-12-18\n",
      "104    2003-12-27\n",
      "106    2004-01-13\n",
      "110    2003-12-15\n",
      "Name: INTRODUCTION_DATE, dtype: object\n"
     ]
    }
   ],
   "source": [
    "df = pd.read_sql(\"SELECT * FROM product\", sqliteConnection)\n",
    "df_res = df.loc[(df['MARGIN'] > 0.50), ['INTRODUCTION_DATE']]\n",
    "df_res_unique = df_res['INTRODUCTION_DATE'].drop_duplicates()\n",
    "print(df_res_unique)"
   ]
  },
  {
   "cell_type": "markdown",
   "metadata": {},
   "source": [
    "Geef een overzicht met daarin het eerste adres en de stad van verkoopafdelingen waarvan zowel het tweede adres als de regio bekend is (2 kolommen, 7 rijen)"
   ]
  },
  {
   "cell_type": "code",
   "execution_count": 9,
   "metadata": {},
   "outputs": [
    {
     "name": "stdout",
     "output_type": "stream",
     "text": [
      "                            ADDRESS1              CITY\n",
      "2                Singelgravenplein 4         Amsterdam\n",
      "13  Prol. Paseo de la Reforma No. 51  Distrito Federal\n",
      "14               202-2-3 Hyakunincho             Tokyo\n",
      "15                     543-225 Asahi        Osaka City\n",
      "16                  2315 Queen's Ave         Melbourne\n",
      "18             Avenida Paulista, 333         São Paulo\n",
      "24                    3 Albany Court        Birmingham\n"
     ]
    }
   ],
   "source": [
    "df = pd.read_sql(\"SELECT * FROM sales_branch\", sqliteConnection)\n",
    "df_res = df.loc[(df['ADDRESS2'].notna()) & (df['REGION'].notna()), ['ADDRESS1', 'CITY']]\n",
    "print(df_res)\n"
   ]
  },
  {
   "cell_type": "markdown",
   "metadata": {},
   "source": [
    "Geef een overzicht met daarin de landen waar met dollars (dollars of new dollar) wordt betaald. Sorteer de uitkomst op land. (1 kolom, 4 rijen) "
   ]
  },
  {
   "cell_type": "code",
   "execution_count": 11,
   "metadata": {},
   "outputs": [
    {
     "name": "stdout",
     "output_type": "stream",
     "text": [
      "          COUNTRY\n",
      "2   United States\n",
      "3          Canada\n",
      "11         Taiwan\n",
      "14      Australia\n"
     ]
    }
   ],
   "source": [
    "df = pd.read_sql(\"SELECT * FROM country\", sqliteConnection)\n",
    "df_res = df.loc[(df['CURRENCY_NAME'] == 'dollars') | (df['CURRENCY_NAME'] == 'new dollar'), ['COUNTRY']]\n",
    "print(df_res)"
   ]
  },
  {
   "cell_type": "markdown",
   "metadata": {},
   "source": [
    "Geef een overzicht met daarin beide adressen en de stad van vestigingen van klanten waarvan de postcode begint met een ‘D’ (van duitsland). Filter op vestigingen die een tweede adres hebben. (3 kolommen, 2 rijen) "
   ]
  },
  {
   "cell_type": "code",
   "execution_count": 17,
   "metadata": {},
   "outputs": [
    {
     "name": "stdout",
     "output_type": "stream",
     "text": [
      "            ADDRESS1       ADDRESS2       CITY\n",
      "31  Röntgenstraße 90  3. Tür rechts  Frankfurt\n",
      "59   Grubesallee 141       4. Stock    Hamburg\n"
     ]
    }
   ],
   "source": [
    "df = pd.read_sql(\"SELECT * FROM retailer_site\", sqliteConnection)\n",
    "df_res = df.loc[(df['POSTAL_ZONE'].str.startswith('D')) & (df['ADDRESS2'].notna()), ['ADDRESS1', 'ADDRESS2', 'CITY']]\n",
    "print(df_res)"
   ]
  },
  {
   "cell_type": "markdown",
   "metadata": {},
   "source": [
    "## Selecties op één tabel met functies"
   ]
  },
  {
   "cell_type": "markdown",
   "metadata": {},
   "source": [
    "Geef het totaal aantal producten dat is teruggebracht (1 waarde) "
   ]
  },
  {
   "cell_type": "code",
   "execution_count": null,
   "metadata": {},
   "outputs": [
    {
     "data": {
      "text/plain": [
       "619"
      ]
     },
     "execution_count": 66,
     "metadata": {},
     "output_type": "execute_result"
    }
   ],
   "source": [
    "df = pd.read_sql(\"SELECT * FROM returned_item\", sqliteConnection)\n",
    "df_res = df.shape[0]\n",
    "print(df_res)"
   ]
  },
  {
   "cell_type": "markdown",
   "metadata": {},
   "source": [
    "Geef het aantal regio’s waarin verkoopafdelingen gevestigd zijn. (1 waarde)"
   ]
  },
  {
   "cell_type": "code",
   "execution_count": null,
   "metadata": {},
   "outputs": [
    {
     "data": {
      "text/plain": [
       "15"
      ]
     },
     "execution_count": 65,
     "metadata": {},
     "output_type": "execute_result"
    }
   ],
   "source": [
    "df = pd.read_sql(\"SELECT * FROM sales_branch\", sqliteConnection)\n",
    "df_res = df['REGION'].nunique()\n",
    "print(df_res)\n"
   ]
  },
  {
   "cell_type": "markdown",
   "metadata": {},
   "source": [
    "Maak 3 variabelen:\n",
    "- Een met de laagste\n",
    "- Een met de hoogste\n",
    "- Een met de gemiddelde (afgerond op 2 decimalen)\n",
    "\n",
    "marge van producten (3 kolommen, 1 rij) "
   ]
  },
  {
   "cell_type": "code",
   "execution_count": 64,
   "metadata": {},
   "outputs": [
    {
     "name": "stdout",
     "output_type": "stream",
     "text": [
      "0.17\n",
      "0.7\n",
      "0.4\n"
     ]
    }
   ],
   "source": [
    "df = pd.read_sql(\"SELECT * FROM product\", sqliteConnection)\n",
    "\n",
    "laagste = df['MARGIN'].min()\n",
    "hoogste = df['MARGIN'].max()\n",
    "gem = round(df['MARGIN'].mean(), 2)\n",
    "\n",
    "print(laagste)\n",
    "print(hoogste)\n",
    "print(gem)\n"
   ]
  },
  {
   "cell_type": "markdown",
   "metadata": {},
   "source": [
    "Geef het aantal vestigingen van klanten waarvan het 2e adres niet bekend is (1 waarde)"
   ]
  },
  {
   "cell_type": "code",
   "execution_count": 62,
   "metadata": {},
   "outputs": [
    {
     "name": "stdout",
     "output_type": "stream",
     "text": [
      "19\n"
     ]
    }
   ],
   "source": [
    "df = pd.read_sql(\"SELECT * FROM sales_branch\", sqliteConnection)\n",
    "\n",
    "df_res = df['ADDRESS2'].isna().sum()\n",
    "print(df_res)\n"
   ]
  },
  {
   "cell_type": "markdown",
   "metadata": {},
   "source": [
    "Geef de gemiddelde kostprijs van de verkochte producten waarop korting (unit_sale_price < unit_price) is verleend (1 waarde) "
   ]
  },
  {
   "cell_type": "code",
   "execution_count": 60,
   "metadata": {},
   "outputs": [
    {
     "name": "stdout",
     "output_type": "stream",
     "text": [
      "204.99\n"
     ]
    }
   ],
   "source": [
    "df = pd.read_sql(\"SELECT * FROM order_details\", sqliteConnection)\n",
    "\n",
    "df_disc = df[df['UNIT_SALE_PRICE'] < df['UNIT_PRICE']]\n",
    "avg_price = round(df_disc['UNIT_PRICE'].mean(), 2)\n",
    "\n",
    "print(avg_price)\n"
   ]
  },
  {
   "cell_type": "markdown",
   "metadata": {},
   "source": [
    "Geef een overzicht met daarin het aantal medewerkers per medewerkersfunctie (2 kolommen, 7 rijen) "
   ]
  },
  {
   "cell_type": "code",
   "execution_count": 58,
   "metadata": {},
   "outputs": [
    {
     "data": {
      "text/html": [
       "<div>\n",
       "<style scoped>\n",
       "    .dataframe tbody tr th:only-of-type {\n",
       "        vertical-align: middle;\n",
       "    }\n",
       "\n",
       "    .dataframe tbody tr th {\n",
       "        vertical-align: top;\n",
       "    }\n",
       "\n",
       "    .dataframe thead th {\n",
       "        text-align: right;\n",
       "    }\n",
       "</style>\n",
       "<table border=\"1\" class=\"dataframe\">\n",
       "  <thead>\n",
       "    <tr style=\"text-align: right;\">\n",
       "      <th></th>\n",
       "      <th>POSITION_EN</th>\n",
       "      <th>SALES_STAFF_CODE</th>\n",
       "    </tr>\n",
       "  </thead>\n",
       "  <tbody>\n",
       "    <tr>\n",
       "      <th>0</th>\n",
       "      <td>Branch Manager</td>\n",
       "      <td>19</td>\n",
       "    </tr>\n",
       "    <tr>\n",
       "      <th>1</th>\n",
       "      <td>District Manager</td>\n",
       "      <td>4</td>\n",
       "    </tr>\n",
       "    <tr>\n",
       "      <th>2</th>\n",
       "      <td>General Manager</td>\n",
       "      <td>1</td>\n",
       "    </tr>\n",
       "    <tr>\n",
       "      <th>3</th>\n",
       "      <td>Level 1 Sales Representative</td>\n",
       "      <td>13</td>\n",
       "    </tr>\n",
       "    <tr>\n",
       "      <th>4</th>\n",
       "      <td>Level 2 Sales Representative</td>\n",
       "      <td>39</td>\n",
       "    </tr>\n",
       "    <tr>\n",
       "      <th>5</th>\n",
       "      <td>Level 3 Sales Representative</td>\n",
       "      <td>24</td>\n",
       "    </tr>\n",
       "    <tr>\n",
       "      <th>6</th>\n",
       "      <td>Regional Manager</td>\n",
       "      <td>2</td>\n",
       "    </tr>\n",
       "  </tbody>\n",
       "</table>\n",
       "</div>"
      ],
      "text/plain": [
       "                    POSITION_EN  SALES_STAFF_CODE\n",
       "0                Branch Manager                19\n",
       "1              District Manager                 4\n",
       "2               General Manager                 1\n",
       "3  Level 1 Sales Representative                13\n",
       "4  Level 2 Sales Representative                39\n",
       "5  Level 3 Sales Representative                24\n",
       "6              Regional Manager                 2"
      ]
     },
     "execution_count": 58,
     "metadata": {},
     "output_type": "execute_result"
    }
   ],
   "source": [
    "df = pd.read_sql(\"SELECT * FROM sales_staff\", sqliteConnection)\n",
    "\n",
    "df_res = df.groupby('POSITION_EN', as_index=False)['SALES_STAFF_CODE'].count()\n",
    "df_res"
   ]
  },
  {
   "cell_type": "markdown",
   "metadata": {},
   "source": [
    "Geef een overzicht met daarin per telefoonnummer het aantal medewerkers dat op dat telefoonnummer bereikbaar is. Toon alleen de telefoonnummer waarop meer dan 4 medewerkers bereikbaar zijn. (2 kolommen, 10 rijen) "
   ]
  },
  {
   "cell_type": "code",
   "execution_count": 57,
   "metadata": {},
   "outputs": [
    {
     "data": {
      "text/html": [
       "<div>\n",
       "<style scoped>\n",
       "    .dataframe tbody tr th:only-of-type {\n",
       "        vertical-align: middle;\n",
       "    }\n",
       "\n",
       "    .dataframe tbody tr th {\n",
       "        vertical-align: top;\n",
       "    }\n",
       "\n",
       "    .dataframe thead th {\n",
       "        text-align: right;\n",
       "    }\n",
       "</style>\n",
       "<table border=\"1\" class=\"dataframe\">\n",
       "  <thead>\n",
       "    <tr style=\"text-align: right;\">\n",
       "      <th></th>\n",
       "      <th>WORK_PHONE</th>\n",
       "      <th>SALES_STAFF_CODE</th>\n",
       "    </tr>\n",
       "  </thead>\n",
       "  <tbody>\n",
       "    <tr>\n",
       "      <th>4</th>\n",
       "      <td>+(44) 121 3505267</td>\n",
       "      <td>5</td>\n",
       "    </tr>\n",
       "    <tr>\n",
       "      <th>10</th>\n",
       "      <td>+(61) 03 2982  4242</td>\n",
       "      <td>5</td>\n",
       "    </tr>\n",
       "    <tr>\n",
       "      <th>11</th>\n",
       "      <td>+31 (0)20 692 93 94</td>\n",
       "      <td>5</td>\n",
       "    </tr>\n",
       "    <tr>\n",
       "      <th>13</th>\n",
       "      <td>+33 1 68 94 52 20</td>\n",
       "      <td>5</td>\n",
       "    </tr>\n",
       "    <tr>\n",
       "      <th>18</th>\n",
       "      <td>1 (206) 292-0012</td>\n",
       "      <td>5</td>\n",
       "    </tr>\n",
       "    <tr>\n",
       "      <th>19</th>\n",
       "      <td>1 (305) 557-4810</td>\n",
       "      <td>6</td>\n",
       "    </tr>\n",
       "    <tr>\n",
       "      <th>20</th>\n",
       "      <td>1 (310) 281-5722</td>\n",
       "      <td>5</td>\n",
       "    </tr>\n",
       "    <tr>\n",
       "      <th>21</th>\n",
       "      <td>1 (403) 232-5986</td>\n",
       "      <td>5</td>\n",
       "    </tr>\n",
       "    <tr>\n",
       "      <th>22</th>\n",
       "      <td>1 (416) 493-5595</td>\n",
       "      <td>5</td>\n",
       "    </tr>\n",
       "    <tr>\n",
       "      <th>23</th>\n",
       "      <td>1 (617) 268-6754</td>\n",
       "      <td>6</td>\n",
       "    </tr>\n",
       "  </tbody>\n",
       "</table>\n",
       "</div>"
      ],
      "text/plain": [
       "             WORK_PHONE  SALES_STAFF_CODE\n",
       "4     +(44) 121 3505267                 5\n",
       "10  +(61) 03 2982  4242                 5\n",
       "11  +31 (0)20 692 93 94                 5\n",
       "13    +33 1 68 94 52 20                 5\n",
       "18     1 (206) 292-0012                 5\n",
       "19     1 (305) 557-4810                 6\n",
       "20     1 (310) 281-5722                 5\n",
       "21     1 (403) 232-5986                 5\n",
       "22     1 (416) 493-5595                 5\n",
       "23     1 (617) 268-6754                 6"
      ]
     },
     "execution_count": 57,
     "metadata": {},
     "output_type": "execute_result"
    }
   ],
   "source": [
    "df = pd.read_sql(\"SELECT * FROM sales_staff\", sqliteConnection)\n",
    "\n",
    "df_res = df.groupby('WORK_PHONE', as_index=False)['SALES_STAFF_CODE'].count()\n",
    "df_res_filter = df_res[df_res['SALES_STAFF_CODE'] > 4]\n",
    "df_res_filter\n"
   ]
  },
  {
   "cell_type": "markdown",
   "metadata": {},
   "source": [
    "## Selecties op meerdere tabellen zonder functies"
   ]
  },
  {
   "cell_type": "markdown",
   "metadata": {},
   "source": [
    "Geef een overzicht met daarin het eerste adres en de stad van vestigingen van klanten uit ‘Netherlands’ (2 kolommen, 20 rijen) "
   ]
  },
  {
   "cell_type": "code",
   "execution_count": 55,
   "metadata": {},
   "outputs": [
    {
     "data": {
      "text/html": [
       "<div>\n",
       "<style scoped>\n",
       "    .dataframe tbody tr th:only-of-type {\n",
       "        vertical-align: middle;\n",
       "    }\n",
       "\n",
       "    .dataframe tbody tr th {\n",
       "        vertical-align: top;\n",
       "    }\n",
       "\n",
       "    .dataframe thead th {\n",
       "        text-align: right;\n",
       "    }\n",
       "</style>\n",
       "<table border=\"1\" class=\"dataframe\">\n",
       "  <thead>\n",
       "    <tr style=\"text-align: right;\">\n",
       "      <th></th>\n",
       "      <th>ADDRESS1</th>\n",
       "      <th>CITY</th>\n",
       "    </tr>\n",
       "  </thead>\n",
       "  <tbody>\n",
       "    <tr>\n",
       "      <th>240</th>\n",
       "      <td>Beets 36</td>\n",
       "      <td>Beets</td>\n",
       "    </tr>\n",
       "    <tr>\n",
       "      <th>241</th>\n",
       "      <td>Perestraat 1</td>\n",
       "      <td>Deventer</td>\n",
       "    </tr>\n",
       "    <tr>\n",
       "      <th>242</th>\n",
       "      <td>Laan van Meerdervoort 966</td>\n",
       "      <td>Den Haag</td>\n",
       "    </tr>\n",
       "    <tr>\n",
       "      <th>243</th>\n",
       "      <td>Kalfjeslaan 47</td>\n",
       "      <td>Amstelveen</td>\n",
       "    </tr>\n",
       "    <tr>\n",
       "      <th>244</th>\n",
       "      <td>Startbaan 11</td>\n",
       "      <td>Amstelveen</td>\n",
       "    </tr>\n",
       "    <tr>\n",
       "      <th>245</th>\n",
       "      <td>Noorderspoorsingel 28</td>\n",
       "      <td>Groningen</td>\n",
       "    </tr>\n",
       "    <tr>\n",
       "      <th>246</th>\n",
       "      <td>Hogehilweg 13</td>\n",
       "      <td>Amsterdam</td>\n",
       "    </tr>\n",
       "    <tr>\n",
       "      <th>247</th>\n",
       "      <td>Spoorstraat 43</td>\n",
       "      <td>Varsseveld</td>\n",
       "    </tr>\n",
       "    <tr>\n",
       "      <th>248</th>\n",
       "      <td>Westhavenweg 8</td>\n",
       "      <td>Amsterdam</td>\n",
       "    </tr>\n",
       "    <tr>\n",
       "      <th>249</th>\n",
       "      <td>Westzeedijk 4</td>\n",
       "      <td>Muiden</td>\n",
       "    </tr>\n",
       "    <tr>\n",
       "      <th>250</th>\n",
       "      <td>Gooiergracht 91</td>\n",
       "      <td>Laren</td>\n",
       "    </tr>\n",
       "    <tr>\n",
       "      <th>251</th>\n",
       "      <td>Hoofdstraat 150</td>\n",
       "      <td>Pieterburen</td>\n",
       "    </tr>\n",
       "    <tr>\n",
       "      <th>252</th>\n",
       "      <td>Olde Diek 2</td>\n",
       "      <td>Laren</td>\n",
       "    </tr>\n",
       "    <tr>\n",
       "      <th>253</th>\n",
       "      <td>Amsterdamsestraatweg 8</td>\n",
       "      <td>Maarssen</td>\n",
       "    </tr>\n",
       "    <tr>\n",
       "      <th>254</th>\n",
       "      <td>Krayenhoffstraat 11</td>\n",
       "      <td>Amsterdam</td>\n",
       "    </tr>\n",
       "    <tr>\n",
       "      <th>255</th>\n",
       "      <td>Overschiestraat 19</td>\n",
       "      <td>Amsterdam</td>\n",
       "    </tr>\n",
       "    <tr>\n",
       "      <th>256</th>\n",
       "      <td>Havenbuurt 12</td>\n",
       "      <td>Marken</td>\n",
       "    </tr>\n",
       "    <tr>\n",
       "      <th>257</th>\n",
       "      <td>Duivendaal 1</td>\n",
       "      <td>Wageningen</td>\n",
       "    </tr>\n",
       "    <tr>\n",
       "      <th>258</th>\n",
       "      <td>Voorstraat 37</td>\n",
       "      <td>Nieuweschans</td>\n",
       "    </tr>\n",
       "    <tr>\n",
       "      <th>259</th>\n",
       "      <td>Stadhouderslaan 18</td>\n",
       "      <td>Rotterdam</td>\n",
       "    </tr>\n",
       "  </tbody>\n",
       "</table>\n",
       "</div>"
      ],
      "text/plain": [
       "                      ADDRESS1          CITY\n",
       "240                   Beets 36         Beets\n",
       "241               Perestraat 1      Deventer\n",
       "242  Laan van Meerdervoort 966      Den Haag\n",
       "243             Kalfjeslaan 47    Amstelveen\n",
       "244               Startbaan 11    Amstelveen\n",
       "245      Noorderspoorsingel 28     Groningen\n",
       "246              Hogehilweg 13     Amsterdam\n",
       "247             Spoorstraat 43    Varsseveld\n",
       "248             Westhavenweg 8     Amsterdam\n",
       "249              Westzeedijk 4        Muiden\n",
       "250            Gooiergracht 91         Laren\n",
       "251            Hoofdstraat 150   Pieterburen\n",
       "252                Olde Diek 2         Laren\n",
       "253     Amsterdamsestraatweg 8      Maarssen\n",
       "254        Krayenhoffstraat 11     Amsterdam\n",
       "255         Overschiestraat 19     Amsterdam\n",
       "256              Havenbuurt 12        Marken\n",
       "257               Duivendaal 1    Wageningen\n",
       "258              Voorstraat 37  Nieuweschans\n",
       "259         Stadhouderslaan 18     Rotterdam"
      ]
     },
     "execution_count": 55,
     "metadata": {},
     "output_type": "execute_result"
    }
   ],
   "source": [
    "retailer = pd.read_sql(\"SELECT * FROM retailer_site\", sqliteConnection)\n",
    "country = pd.read_sql(\"SELECT * FROM country\", sqliteConnection)\n",
    "\n",
    "df_merge = pd.merge(retailer, country, left_on='COUNTRY_CODE', right_on='COUNTRY_CODE', how='left')\n",
    "df_nl = df_merge['COUNTRY'] == 'Netherlands'\n",
    "df_merge.loc[(df_nl), ['ADDRESS1', 'CITY']]\n",
    "\n"
   ]
  },
  {
   "cell_type": "markdown",
   "metadata": {},
   "source": [
    "Geef een overzicht met daarin de productnamen die tot het producttype ‘Eyewear’ behoren. (1 kolom, 5 rijen) "
   ]
  },
  {
   "cell_type": "code",
   "execution_count": 70,
   "metadata": {},
   "outputs": [
    {
     "data": {
      "text/html": [
       "<div>\n",
       "<style scoped>\n",
       "    .dataframe tbody tr th:only-of-type {\n",
       "        vertical-align: middle;\n",
       "    }\n",
       "\n",
       "    .dataframe tbody tr th {\n",
       "        vertical-align: top;\n",
       "    }\n",
       "\n",
       "    .dataframe thead th {\n",
       "        text-align: right;\n",
       "    }\n",
       "</style>\n",
       "<table border=\"1\" class=\"dataframe\">\n",
       "  <thead>\n",
       "    <tr style=\"text-align: right;\">\n",
       "      <th></th>\n",
       "      <th>PRODUCT_NAME</th>\n",
       "    </tr>\n",
       "  </thead>\n",
       "  <tbody>\n",
       "    <tr>\n",
       "      <th>67</th>\n",
       "      <td>Polar Sun</td>\n",
       "    </tr>\n",
       "    <tr>\n",
       "      <th>68</th>\n",
       "      <td>Polar Ice</td>\n",
       "    </tr>\n",
       "    <tr>\n",
       "      <th>69</th>\n",
       "      <td>Polar Sports</td>\n",
       "    </tr>\n",
       "    <tr>\n",
       "      <th>70</th>\n",
       "      <td>Polar Wave</td>\n",
       "    </tr>\n",
       "    <tr>\n",
       "      <th>71</th>\n",
       "      <td>Polar Extreme</td>\n",
       "    </tr>\n",
       "  </tbody>\n",
       "</table>\n",
       "</div>"
      ],
      "text/plain": [
       "     PRODUCT_NAME\n",
       "67      Polar Sun\n",
       "68      Polar Ice\n",
       "69   Polar Sports\n",
       "70     Polar Wave\n",
       "71  Polar Extreme"
      ]
     },
     "execution_count": 70,
     "metadata": {},
     "output_type": "execute_result"
    }
   ],
   "source": [
    "product = pd.read_sql(\"SELECT * FROM product\", sqliteConnection)\n",
    "type = pd.read_sql(\"SELECT * FROM product_type\", sqliteConnection)\n",
    "\n",
    "df_merge = pd.merge(product, type, left_on='PRODUCT_TYPE_CODE', right_on='PRODUCT_TYPE_CODE', how='left')\n",
    "df_nl = df_merge['PRODUCT_TYPE_EN'] == 'Eyewear'\n",
    "df_merge.loc[(df_nl), ['PRODUCT_NAME']]\n",
    "\n"
   ]
  },
  {
   "cell_type": "markdown",
   "metadata": {},
   "source": [
    "Geef een overzicht met daarin alle unieke eerste adressen van klantvestigingen en de voornaam en achternaam van de verkopers die ‘Branch Manager’ zijn en aan deze vestigingen hebben verkocht (3 kolommen, 1 rij) "
   ]
  },
  {
   "cell_type": "code",
   "execution_count": 75,
   "metadata": {},
   "outputs": [
    {
     "data": {
      "text/html": [
       "<div>\n",
       "<style scoped>\n",
       "    .dataframe tbody tr th:only-of-type {\n",
       "        vertical-align: middle;\n",
       "    }\n",
       "\n",
       "    .dataframe tbody tr th {\n",
       "        vertical-align: top;\n",
       "    }\n",
       "\n",
       "    .dataframe thead th {\n",
       "        text-align: right;\n",
       "    }\n",
       "</style>\n",
       "<table border=\"1\" class=\"dataframe\">\n",
       "  <thead>\n",
       "    <tr style=\"text-align: right;\">\n",
       "      <th></th>\n",
       "      <th>ADDRESS1</th>\n",
       "      <th>FIRST_NAME</th>\n",
       "      <th>LAST_NAME</th>\n",
       "    </tr>\n",
       "  </thead>\n",
       "  <tbody>\n",
       "    <tr>\n",
       "      <th>3737</th>\n",
       "      <td>Avenida Paulista, 333</td>\n",
       "      <td>Bayard</td>\n",
       "      <td>Lopes</td>\n",
       "    </tr>\n",
       "  </tbody>\n",
       "</table>\n",
       "</div>"
      ],
      "text/plain": [
       "                   ADDRESS1 FIRST_NAME LAST_NAME\n",
       "3737  Avenida Paulista, 333     Bayard     Lopes"
      ]
     },
     "execution_count": 75,
     "metadata": {},
     "output_type": "execute_result"
    }
   ],
   "source": [
    "sales_staff = pd.read_sql(\"SELECT * FROM sales_staff\", sqliteConnection)\n",
    "sales_branch = pd.read_sql(\"SELECT * FROM sales_branch\", sqliteConnection)\n",
    "order_header = pd.read_sql(\"SELECT * FROM order_header\", sqliteConnection)\n",
    "\n",
    "df_merge = pd.merge(sales_branch, order_header, left_on='SALES_BRANCH_CODE', right_on='SALES_BRANCH_CODE')\n",
    "df_merge2 = pd.merge(df_merge, sales_staff, left_on='SALES_STAFF_CODE', right_on='SALES_STAFF_CODE')\n",
    "\n",
    "df_filter = df_merge2[df_merge2['POSITION_EN'] == 'Branch Manager']\n",
    "df_res = df_filter[['ADDRESS1', 'FIRST_NAME', 'LAST_NAME']].drop_duplicates()\n",
    "df_res\n",
    "\n",
    "\n"
   ]
  },
  {
   "cell_type": "markdown",
   "metadata": {},
   "source": [
    "Geef een overzicht met daarin van de verkopers hun functie en indien zij iets hebben verkocht de datum waarop de verkoop heeft plaatsgevonden. Laat alleen de verschillende namen van de posities zien van de verkopers die het woord ‘Manager’ in hun positienaam hebben staan. (2 kolommen, 7 rijen) "
   ]
  },
  {
   "cell_type": "code",
   "execution_count": 99,
   "metadata": {},
   "outputs": [
    {
     "data": {
      "text/html": [
       "<div>\n",
       "<style scoped>\n",
       "    .dataframe tbody tr th:only-of-type {\n",
       "        vertical-align: middle;\n",
       "    }\n",
       "\n",
       "    .dataframe tbody tr th {\n",
       "        vertical-align: top;\n",
       "    }\n",
       "\n",
       "    .dataframe thead th {\n",
       "        text-align: right;\n",
       "    }\n",
       "</style>\n",
       "<table border=\"1\" class=\"dataframe\">\n",
       "  <thead>\n",
       "    <tr style=\"text-align: right;\">\n",
       "      <th></th>\n",
       "      <th>POSITION_EN</th>\n",
       "      <th>ORDER_DATE</th>\n",
       "    </tr>\n",
       "  </thead>\n",
       "  <tbody>\n",
       "    <tr>\n",
       "      <th>0</th>\n",
       "      <td>Branch Manager</td>\n",
       "      <td>NaN</td>\n",
       "    </tr>\n",
       "    <tr>\n",
       "      <th>320</th>\n",
       "      <td>Regional Manager</td>\n",
       "      <td>NaN</td>\n",
       "    </tr>\n",
       "    <tr>\n",
       "      <th>648</th>\n",
       "      <td>District Manager</td>\n",
       "      <td>NaN</td>\n",
       "    </tr>\n",
       "    <tr>\n",
       "      <th>3748</th>\n",
       "      <td>Branch Manager</td>\n",
       "      <td>2024-09-09</td>\n",
       "    </tr>\n",
       "    <tr>\n",
       "      <th>3749</th>\n",
       "      <td>Branch Manager</td>\n",
       "      <td>2024-03-13</td>\n",
       "    </tr>\n",
       "    <tr>\n",
       "      <th>3750</th>\n",
       "      <td>Branch Manager</td>\n",
       "      <td>2024-01-09</td>\n",
       "    </tr>\n",
       "    <tr>\n",
       "      <th>4186</th>\n",
       "      <td>General Manager</td>\n",
       "      <td>NaN</td>\n",
       "    </tr>\n",
       "  </tbody>\n",
       "</table>\n",
       "</div>"
      ],
      "text/plain": [
       "           POSITION_EN  ORDER_DATE\n",
       "0       Branch Manager         NaN\n",
       "320   Regional Manager         NaN\n",
       "648   District Manager         NaN\n",
       "3748    Branch Manager  2024-09-09\n",
       "3749    Branch Manager  2024-03-13\n",
       "3750    Branch Manager  2024-01-09\n",
       "4186   General Manager         NaN"
      ]
     },
     "execution_count": 99,
     "metadata": {},
     "output_type": "execute_result"
    }
   ],
   "source": [
    "sales_staff = pd.read_sql(\"SELECT * FROM sales_staff\", sqliteConnection)\n",
    "order_header = pd.read_sql(\"SELECT * FROM order_header\", sqliteConnection)\n",
    "\n",
    "df_merge = pd.merge(order_header, sales_staff, left_on='SALES_STAFF_CODE', right_on='SALES_STAFF_CODE', how='right')\n",
    "\n",
    "df_filter = df_merge[df_merge['POSITION_EN'].str.contains('Manager', case=False, na=False)]\n",
    "\n",
    "df_res = df_filter[['POSITION_EN', 'ORDER_DATE']].drop_duplicates()\n",
    "df_res\n",
    "\n",
    "\n"
   ]
  },
  {
   "cell_type": "markdown",
   "metadata": {},
   "source": [
    "Geef een overzicht met daarin de verschillende namen van producten en bijbehorende namen van producttypen van de producten waarvoor ooit meer dan 750 stuks tegelijk verkocht zijn. (2 kolommen, 9 rijen) "
   ]
  },
  {
   "cell_type": "code",
   "execution_count": null,
   "metadata": {},
   "outputs": [],
   "source": [
    "product = pd.read_sql(\"SELECT * FROM product\", sqliteConnection)\n",
    "type = pd.read_sql(\"SELECT * FROM product_type\", sqliteConnection)\n",
    "\n",
    "df_merge = pd.merge(product, type, left_on='SALES_STAFF_CODE', right_on='SALES_STAFF_CODE')\n",
    "\n",
    "df_filter = df_merge[df_merge['POSITION_EN'].str.contains('Manager', case=False, na=False)]\n",
    "\n",
    "df_res = df_filter[['POSITION_EN', 'ORDER_DATE']].drop_duplicates()\n",
    "df_res\n",
    "\n",
    "\n"
   ]
  },
  {
   "cell_type": "markdown",
   "metadata": {},
   "source": [
    "Geef een overzicht met daarin de productnamen waarvan ooit meer dan 40% korting is verleend. De formule voor korting is: (unit_price - unit_sale_price) / unit_price (1 kolom, 8 rijen) "
   ]
  },
  {
   "cell_type": "code",
   "execution_count": null,
   "metadata": {},
   "outputs": [],
   "source": []
  },
  {
   "cell_type": "markdown",
   "metadata": {},
   "source": [
    "Geef een overzicht met daarin de retourreden van producten waarvan ooit meer dan 90% van de aangeschafte hoeveelheid is teruggebracht (return_quantity/quantity). (1 kolom, 3 rijen) "
   ]
  },
  {
   "cell_type": "code",
   "execution_count": null,
   "metadata": {},
   "outputs": [],
   "source": []
  },
  {
   "cell_type": "markdown",
   "metadata": {},
   "source": [
    "## Selecties op meerdere tabellen met functies"
   ]
  },
  {
   "cell_type": "markdown",
   "metadata": {},
   "source": [
    "Geef een overzicht met daarin per producttype het aantal producten die tot dat producttype behoren. (2 kolommen, 21 rijen) "
   ]
  },
  {
   "cell_type": "code",
   "execution_count": null,
   "metadata": {},
   "outputs": [],
   "source": []
  },
  {
   "cell_type": "markdown",
   "metadata": {},
   "source": [
    "Geef een overzicht met daarin per land het aantal vestigingen van klanten die zich in dat land bevinden. (2 kolommen, 21 rijen) "
   ]
  },
  {
   "cell_type": "code",
   "execution_count": null,
   "metadata": {},
   "outputs": [],
   "source": []
  },
  {
   "cell_type": "markdown",
   "metadata": {},
   "source": [
    "Geef een overzicht met daarin van de producten behorend tot het producttype ‘Cooking Gear’ per productnaam de totaal verkochte hoeveelheid en de gemiddelde verkoopprijs. Sorteer de uitkomst op totaal verkochte hoeveelheid. (4 kolommen, 10 rijen) "
   ]
  },
  {
   "cell_type": "code",
   "execution_count": null,
   "metadata": {},
   "outputs": [],
   "source": []
  },
  {
   "cell_type": "markdown",
   "metadata": {},
   "source": [
    "Geef een overzicht met daarin per land de naam van het land, de naam van de stad waar de verkoopafdeling is gevestigd (noem de kolomnaam in het overzicht ‘verkoper’) en het aantal steden waar zich klanten bevinden in dat land (noem de kolomnaam in het overzicht ‘klanten’) (3 kolommen, 29 rijen) "
   ]
  },
  {
   "cell_type": "code",
   "execution_count": null,
   "metadata": {},
   "outputs": [],
   "source": []
  },
  {
   "cell_type": "markdown",
   "metadata": {},
   "source": [
    "## Pythonvertalingen van SUBSELECT en UNION met o.a. for-loops"
   ]
  },
  {
   "cell_type": "markdown",
   "metadata": {},
   "source": [
    "Geef een overzicht met daarin de voornaam en de achternaam van de medewerkers die nog nooit wat hebben verkocht (2 kolommen, 25 rijen) "
   ]
  },
  {
   "cell_type": "code",
   "execution_count": null,
   "metadata": {},
   "outputs": [],
   "source": []
  },
  {
   "cell_type": "markdown",
   "metadata": {},
   "source": [
    "Geef een overzicht met daarin het aantal producten waarvan de marge lager is dan de gemiddelde marge van alle producten samen. Geef in het overzicht tevens aan wat de gemiddelde marge is van dit aantal producten waarvan de marge lager dan de gemiddelde marge van alle producten samen is. (1 kolom, 2 rijen) "
   ]
  },
  {
   "cell_type": "code",
   "execution_count": null,
   "metadata": {},
   "outputs": [],
   "source": []
  },
  {
   "cell_type": "markdown",
   "metadata": {},
   "source": [
    "Geef een overzicht met daarin de namen van de producten die voor meer dan 500 (verkoopprijs) zijn verkocht maar nooit zijn teruggebracht. (1 kolom, 13 rijen) "
   ]
  },
  {
   "cell_type": "code",
   "execution_count": null,
   "metadata": {},
   "outputs": [],
   "source": []
  },
  {
   "cell_type": "markdown",
   "metadata": {},
   "source": [
    "Geef een overzicht met daarin per (achternaam van) medewerker of hij/zij manager is of niet, door deze informatie toe te voegen als extra 'Ja/Nee'-kolom.<br>\n",
    "Hint: gebruik een for-loop waarin je o.a. bepaalt of het woord 'Manager' in de functie (position_en) staat. (2 kolommen, 102 rijen)."
   ]
  },
  {
   "cell_type": "code",
   "execution_count": null,
   "metadata": {},
   "outputs": [],
   "source": []
  },
  {
   "cell_type": "markdown",
   "metadata": {},
   "source": [
    "Met de onderstaande code laat je Python het huidige jaar uitrekenen."
   ]
  },
  {
   "cell_type": "code",
   "execution_count": null,
   "metadata": {},
   "outputs": [
    {
     "data": {
      "text/plain": [
       "2024"
      ]
     },
     "execution_count": 1,
     "metadata": {},
     "output_type": "execute_result"
    }
   ],
   "source": [
    "from datetime import date\n",
    "date.today().year"
   ]
  },
  {
   "cell_type": "markdown",
   "metadata": {},
   "source": [
    "Met de onderstaande code selecteer je op een bepaald jaartal uit een datum."
   ]
  },
  {
   "cell_type": "code",
   "execution_count": null,
   "metadata": {},
   "outputs": [
    {
     "data": {
      "text/plain": [
       "2013"
      ]
     },
     "execution_count": 2,
     "metadata": {},
     "output_type": "execute_result"
    }
   ],
   "source": [
    "from datetime import datetime\n",
    "\n",
    "date_str = '16-8-2013'\n",
    "date_format = '%d-%m-%Y'\n",
    "date_obj = datetime.strptime(date_str, date_format)\n",
    "\n",
    "date_obj.year"
   ]
  },
  {
   "cell_type": "markdown",
   "metadata": {},
   "source": [
    "Geef met behulp van bovenstaande hulpcode een overzicht met daarin op basis van het aantal jaar dat iemand in dienst is of een medewerker ‘kort in dienst’ (minder dan 25 jaar in dienst) of een ‘lang in dienst’ (groter gelijk dan 12 jaar in dienst) is. Geef daarbij per medewerker in een aparte kolom zowel ‘kort in dienst’ als ‘lang in dienst’ aan. Gebruik (wederom) een for-loop.<br>\n",
    "(2 kolommen, 102 rijen) "
   ]
  },
  {
   "cell_type": "code",
   "execution_count": null,
   "metadata": {},
   "outputs": [],
   "source": []
  },
  {
   "cell_type": "markdown",
   "metadata": {},
   "source": [
    "## Van Jupyter Notebook naar Pythonproject"
   ]
  },
  {
   "cell_type": "markdown",
   "metadata": {},
   "source": [
    "1. Richt de map waarin jullie tot nu toe hebben gewerkt in volgens de mappenstructuur uit de slides.\n",
    "2. Maak van de ontstane mappenstructuur een Pythonproject dat uitvoerbaar is vanuit de terminal. Maak daarin een .py-bestand dat minstens 5 antwoorden uit dit notebook (in de vorm van een DataFrame) exporteert naar Excelbestanden. Alle notebooks mogen als notebook blijven bestaan.\n",
    "3. Zorg ervoor dat dit Pythonproject zijn eigen repo heeft op Github. Let op: je virtual environment moet <b><u>niet</u></b> meegaan naar Github.\n",
    "\n",
    "Je mag tijdens dit proces je uit stap 1 ontstane mappenstructuur aanpassen, zolang je bij het beoordelingsmoment kan verantwoorden wat de motivatie hierachter is. De slides verplichten je dus nergens toe."
   ]
  }
 ],
 "metadata": {
  "kernelspec": {
   "display_name": ".venv",
   "language": "python",
   "name": "python3"
  },
  "language_info": {
   "codemirror_mode": {
    "name": "ipython",
    "version": 3
   },
   "file_extension": ".py",
   "mimetype": "text/x-python",
   "name": "python",
   "nbconvert_exporter": "python",
   "pygments_lexer": "ipython3",
   "version": "3.12.1"
  }
 },
 "nbformat": 4,
 "nbformat_minor": 2
}
